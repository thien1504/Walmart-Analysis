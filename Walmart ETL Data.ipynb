{
 "cells": [
  {
   "cell_type": "code",
   "execution_count": 1,
   "id": "2fa52922",
   "metadata": {},
   "outputs": [],
   "source": [
    "import numpy as np\n",
    "import pandas as pd"
   ]
  },
  {
   "cell_type": "code",
   "execution_count": 5,
   "id": "b4583cc6",
   "metadata": {},
   "outputs": [],
   "source": [
    "calendar = pd.read_csv(\"calendar.csv\")\n",
    "sell_prices = pd.read_csv(\"sell_prices.csv\")\n",
    "sales = pd.read_csv(\"sales_train_evaluation.csv\")"
   ]
  },
  {
   "cell_type": "code",
   "execution_count": null,
   "id": "cac0e17a",
   "metadata": {},
   "outputs": [],
   "source": [
    "dim_store = sales[[\"store_id\", \"state_id\"]]\n",
    "dim_item_category = sales[[\"dept_id\", \"cat_id\"]]\n",
    "dim_store = dim_store.drop_duplicates()\n",
    "dim_item_category = dim_item_category.drop_duplicates()"
   ]
  },
  {
   "cell_type": "code",
   "execution_count": null,
   "id": "31e2b122",
   "metadata": {},
   "outputs": [],
   "source": [
    "cols = [\"id\", \"item_id\", \"dept_id\", \"store_id\"] + [f\"d_{i}\" for i in range(1,1942)]\n",
    "sales = sales[cols]"
   ]
  },
  {
   "cell_type": "code",
   "execution_count": null,
   "id": "5e6b63a4",
   "metadata": {},
   "outputs": [],
   "source": [
    "sales[\"id\"] = sales[\"id\"].str.replace(\"_evaluation\", \"\")"
   ]
  },
  {
   "cell_type": "code",
   "execution_count": null,
   "id": "7134d498",
   "metadata": {},
   "outputs": [],
   "source": [
    "sales = sales.melt(id_vars=[\"id\", \"item_id\", \"dept_id\", \"store_id\"], var_name=\"d\", value_name=\"quantity\")"
   ]
  },
  {
   "cell_type": "code",
   "execution_count": null,
   "id": "0fd5cc1d",
   "metadata": {},
   "outputs": [],
   "source": [
    "sales = sales.merge(calendar[[\"d\", \"wm_yr_wk\"]], on=\"d\")\n",
    "sales[\"id_wm\"] = sales[\"id\"] + sales[\"wm_yr_wk\"].astype(str)\n",
    "sell_prices[\"id_wm\"] = sell_prices[\"item_id\"] + \"_\" + sell_prices[\"store_id\"] + sell_prices[\"wm_yr_wk\"].astype(str)\n",
    "sales = sales.merge(sell_prices[[\"id_wm\", \"sell_price\"]], on=\"id_wm\", how=\"left\")\n",
    "sales = sales.drop([\"wm_yr_wk\", \"id_wm\"], axis=1)\n",
    "sales = sales.fillna(0)"
   ]
  },
  {
   "cell_type": "code",
   "execution_count": null,
   "id": "ff91e51a",
   "metadata": {},
   "outputs": [],
   "source": [
    "dim_store.to_csv(\"dim_store.csv\", index=False)\n",
    "dim_item_category.to_csv(\"dim_item.csv\", index=False)\n",
    "calendar.to_csv(\"dim_date.csv\", index=False)\n",
    "sales.to_csv(\"fact_sales.csv\", index=False)"
   ]
  }
 ],
 "metadata": {
  "kernelspec": {
   "display_name": "Python 3 (ipykernel)",
   "language": "python",
   "name": "python3"
  },
  "language_info": {
   "codemirror_mode": {
    "name": "ipython",
    "version": 3
   },
   "file_extension": ".py",
   "mimetype": "text/x-python",
   "name": "python",
   "nbconvert_exporter": "python",
   "pygments_lexer": "ipython3",
   "version": "3.9.16"
  }
 },
 "nbformat": 4,
 "nbformat_minor": 5
}
